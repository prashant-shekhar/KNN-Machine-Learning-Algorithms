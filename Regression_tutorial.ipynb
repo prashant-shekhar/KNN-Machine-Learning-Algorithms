{
 "cells": [
  {
   "cell_type": "code",
   "execution_count": 6,
   "metadata": {},
   "outputs": [
    {
     "data": {
      "text/plain": [
       "Text(0, 0.5, 'Salary')"
      ]
     },
     "execution_count": 6,
     "metadata": {},
     "output_type": "execute_result"
    },
    {
     "data": {
      "image/png": "[encoded data removed]",
      "text/plain": [
       "<Figure size 432x288 with 1 Axes>"
      ]
     },
     "metadata": {
      "needs_background": "light"
     },
     "output_type": "display_data"
    }
   ],
   "source": [
    "#importing libraries\n",
    "import numpy as np\n",
    "import pandas as pd\n",
    "import matplotlib.pyplot as plt\n",
    "#importing dataset\n",
    "dataset = pd.read_csv(\"Salary_Data.csv\")\n",
    "x = dataset.iloc[:,0].values\n",
    "y = dataset.iloc[:,:-1].values\n",
    "\n",
    "#splitting the dataset into trainingg set and test set\n",
    "from sklearn.model_selection import train_test_split\n",
    "x_train, x_test, y_train, y_test = train_test_split(x,y,test_size = 1/3, random_state = 0)\n",
    "\n",
    "#fitting of simple linear regression into the training set \n",
    "from sklearn.linear_model import LinearRegression\n",
    "regressor = LinearRegression()\n",
    "x_train = x_train.reshape(-1,1)\n",
    "regressor.fit(x_train, y_train)\n",
    "\n",
    "#predicting the test set result\n",
    "x_test = x_test.reshape(-1,1)\n",
    "y_pred = regressor.predict(x_test)\n",
    "\n",
    "#visualization of training set reult\n",
    "plt.scatter(x_train, y_train, color = 'red')\n",
    "plt.plot(x_train, y_train)\n",
    "plt.xlabel(\"Experiance\")\n",
    "plt.ylabel(\"Salary\")\n"
   ]
  },
  {
   "cell_type": "code",
   "execution_count": null,
   "metadata": {},
   "outputs": [],
   "source": []
  },
  {
   "cell_type": "code",
   "execution_count": null,
   "metadata": {},
   "outputs": [],
   "source": []
  }
 ],
 "metadata": {
  "kernelspec": {
   "display_name": "Python 3",
   "language": "python",
   "name": "python3"
  },
  "language_info": {
   "codemirror_mode": {
    "name": "ipython",
    "version": 3
   },
   "file_extension": ".py",
   "mimetype": "text/x-python",
   "name": "python",
   "nbconvert_exporter": "python",
   "pygments_lexer": "ipython3",
   "version": "3.7.3"
  }
 },
 "nbformat": 4,
 "nbformat_minor": 2
}
