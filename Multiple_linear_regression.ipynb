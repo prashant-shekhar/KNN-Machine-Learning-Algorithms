import json
import libraries
import matplotlib.pyplot as plt
import pandas as pd
import numpy as np

import dataset
dataset = pd.read_csv('50_Startups.csv')
x = dataset.iloc[:, :-1].values #iloc[rows,column] .loc['sex'=male]
y = dataset.iloc[:, 4].values

Encoding categorical data
Encoding the Independent Variable
from sklearn.preprocessing import LabelEncoder, OneHotEncoder
labelencoder_x = LabelEncoder()
x[:, 3] = labelencoder_x.fit_transform(x[:, 3])
onehotencoder = OneHotEncoder(categorical_features = [3])
x = onehotencoder.fit_transform(x).toarray()

avoiding the dummy variable trap
x=x[:,1:]

splitting of training set and test set
from sklearn.model_selection import train_test_split
x_train, x_test, y_train, y_test = train_test_split(x, y, test_size = 0.2, random_state = 0)

fitting multiple linear regression to the test set and training set

from sklearn.linear_model import LinearRegression
regressor = LinearRegression()
regressor.fit(x_train, y_train)

prediction

y_pred = regressor.predict(x_test)


building up optimal model using backward elimination

