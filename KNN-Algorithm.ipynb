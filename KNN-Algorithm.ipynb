{
 "cells": [
  {
   "cell_type": "markdown",
   "metadata": {},
   "source": [
    "### Importing Required Libraries"
   ]
  },
  {
   "cell_type": "code",
   "execution_count": 2,
   "metadata": {},
   "outputs": [],
   "source": [
    "import numpy as np\n",
    "import matplotlib.pyplot as plt\n",
    "%matplotlib inline"
   ]
  },
  {
   "cell_type": "markdown",
   "metadata": {},
   "source": [
    "### Taking Random data"
   ]
  },
  {
   "cell_type": "code",
   "execution_count": 4,
   "metadata": {},
   "outputs": [],
   "source": [
    "mean1 = np.array([1,0])\n",
    "cov1 = np.array([[1,0.1],[0.1, 1.5]])\n",
    "distribution1 = np.random.multivariate_normal(mean1, cov1, 500)\n",
    "\n",
    "mean2 = np.array([6,5])\n",
    "cov2 = np.array([[1.3,0.1],[0.1, 1.5]])\n",
    "distribution2 = np.random.multivariate_normal(mean2, cov2, 500)"
   ]
  },
  {
   "cell_type": "markdown",
   "metadata": {},
   "source": [
    "### Ploting The Data"
   ]
  },
  {
   "cell_type": "code",
   "execution_count": 20,
   "metadata": {},
   "outputs": [
    {
     "data": {
      "image/png": "[encoded data removed]",
      "text/plain": [
       "<Figure size 432x288 with 1 Axes>"
      ]
     },
     "metadata": {
      "needs_background": "light"
     },
     "output_type": "display_data"
    }
   ],
   "source": [
    "plt.scatter(distribution1[:,0], distribution1[:,-1])\n",
    "plt.scatter(distribution2[:,0],distribution2[:,-1])\n",
    "plt.show()"
   ]
  },
  {
   "cell_type": "code",
   "execution_count": 51,
   "metadata": {},
   "outputs": [
    {
     "name": "stdout",
     "output_type": "stream",
     "text": [
      "(1000, 3)\n"
     ]
    }
   ],
   "source": [
    "data = np.zeros((1000,3))\n",
    "data[:500,:2] = distribution1\n",
    "data[500:,:2] = distribution2\n",
    "data[500:, -1] = 1     #rest 500 of the last column will be 0 .\n",
    "\n",
    "print(data.shape)"
   ]
  },
  {
   "cell_type": "code",
   "execution_count": 52,
   "metadata": {},
   "outputs": [
    {
     "data": {
      "text/plain": [
       "array([3.49043104, 2.49743355, 0.5       ])"
      ]
     },
     "execution_count": 52,
     "metadata": {},
     "output_type": "execute_result"
    }
   ],
   "source": [
    "data.mean(axis = 0)  #mean of each elements of each column.\n"
   ]
  },
  {
   "cell_type": "code",
   "execution_count": 53,
   "metadata": {},
   "outputs": [
    {
     "name": "stdout",
     "output_type": "stream",
     "text": [
      "[[ 0.28260815 -0.47070893  0.        ]\n",
      " [ 2.65930862  0.19018907  0.        ]\n",
      " [ 1.90640941  0.82905217  0.        ]\n",
      " [ 1.69123703  0.46334933  0.        ]\n",
      " [ 0.14601874 -2.21738866  0.        ]\n",
      " [ 0.85375093 -0.38828247  0.        ]\n",
      " [ 0.45688145  0.47825628  0.        ]\n",
      " [ 1.43647781  0.43350911  0.        ]\n",
      " [ 0.02759413 -0.22105815  0.        ]\n",
      " [ 0.15225596  0.8979414   0.        ]\n",
      " [ 1.52280358 -1.05680873  0.        ]\n",
      " [ 0.71528344  0.42758197  0.        ]\n",
      " [ 3.68184027  1.41878548  0.        ]\n",
      " [ 1.05578946 -0.01853055  0.        ]\n",
      " [ 1.89289297  0.66641198  0.        ]\n",
      " [ 1.88998952 -1.81173167  0.        ]\n",
      " [ 0.54017628  0.13856091  0.        ]\n",
      " [ 1.70278963  0.30682704  0.        ]\n",
      " [ 1.15178584  0.24704399  0.        ]\n",
      " [ 0.94887246  0.09917185  0.        ]]\n"
     ]
    },
    {
     "data": {
      "text/plain": [
       "array([[ 1.47511456, -0.95511736,  0.        ],\n",
       "       [ 6.94580107,  6.21283158,  1.        ],\n",
       "       [ 6.50190265,  4.77701496,  1.        ],\n",
       "       [ 5.40000437,  3.02568516,  1.        ],\n",
       "       [ 4.17311811,  6.76765753,  1.        ],\n",
       "       [ 1.15825691,  1.74125485,  0.        ],\n",
       "       [ 4.14634318,  3.76584124,  1.        ],\n",
       "       [ 6.72685131,  6.38870484,  1.        ],\n",
       "       [ 1.74981218,  0.35511294,  0.        ],\n",
       "       [ 2.32899249,  0.12118613,  0.        ],\n",
       "       [ 5.70859349,  6.93934655,  1.        ],\n",
       "       [ 1.78201495,  0.09230116,  0.        ],\n",
       "       [ 1.78145309, -0.77253607,  0.        ],\n",
       "       [ 5.30461757,  5.99141374,  1.        ],\n",
       "       [ 6.53292903,  1.99174323,  1.        ],\n",
       "       [ 1.71989632,  0.89381895,  0.        ],\n",
       "       [ 4.92345084,  4.81371359,  1.        ],\n",
       "       [ 1.29185796, -1.66080754,  0.        ],\n",
       "       [ 5.41675876,  6.17223529,  1.        ],\n",
       "       [ 1.58127678, -1.52405587,  0.        ]])"
      ]
     },
     "execution_count": 53,
     "metadata": {},
     "output_type": "execute_result"
    }
   ],
   "source": [
    "print(data[:20])\n",
    "np.random.shuffle(data)  # we have shuffled the data to prevent biasing\n",
    "data[:20]"
   ]
  },
  {
   "cell_type": "code",
   "execution_count": 63,
   "metadata": {},
   "outputs": [],
   "source": [
    "def distance(a,b):\n",
    "    return(np.sum((b-a)**2))**0.5\n",
    "    "
   ]
  },
  {
   "cell_type": "code",
   "execution_count": 92,
   "metadata": {},
   "outputs": [],
   "source": [
    "def knn(x_train, y_train, test_point, k = 7):\n",
    "    vals= []\n",
    "    for i in range(x_train.shape[0]):\n",
    "        d = distance(x_train[i], test_point)\n",
    "        vals.append([d, y_train[i]])\n",
    "        \n",
    "    sorted_label = sorted(vals, key = lambda r: r[0])\n",
    "    neigh = np.asarray(sorted_label)[:k,-1]\n",
    "    freq = np.unique(neigh, return_counts=True)\n",
    "    index = freq[1].argmax()\n",
    "    return freq[0][index]"
   ]
  },
  {
   "cell_type": "code",
   "execution_count": 93,
   "metadata": {},
   "outputs": [
    {
     "data": {
      "text/plain": [
       "1.0"
      ]
     },
     "execution_count": 93,
     "metadata": {},
     "output_type": "execute_result"
    }
   ],
   "source": [
    "x_train = data[:,:2]\n",
    "y_train = data[:,-1]\n",
    "test_point = np.array([4,3])\n",
    "knn(x_train, y_train, test_point)"
   ]
  },
  {
   "cell_type": "code",
   "execution_count": 98,
   "metadata": {},
   "outputs": [],
   "source": [
    "split = int(0.75 * data.shape[0])\n",
    "x_train = data[:split,:2]\n",
    "y_train = data[:split, -1]\n",
    "x_test = data[split:, :2]\n",
    "y_test = data[split:,-1]"
   ]
  },
  {
   "cell_type": "code",
   "execution_count": 110,
   "metadata": {},
   "outputs": [],
   "source": [
    "def accuracy(k):\n",
    "    prediction = []\n",
    "    for i in range (x_test.shape[0]):\n",
    "        test_point = x_test[i]\n",
    "        predicted_label = knn(x_train, y_train, test_point, k)\n",
    "        prediction.append(predicted_label)\n",
    "    pred = np.asarray(prediction)\n",
    "        \n",
    "    return 100 * (y_test == pred).sum() / (pred.shape[0])"
   ]
  },
  {
   "cell_type": "code",
   "execution_count": 111,
   "metadata": {},
   "outputs": [
    {
     "data": {
      "text/plain": [
       "100.0"
      ]
     },
     "execution_count": 111,
     "metadata": {},
     "output_type": "execute_result"
    }
   ],
   "source": [
    "accuracy(3)"
   ]
  },
  {
   "cell_type": "markdown",
   "metadata": {},
   "source": [
    "### Lets Do it Using Sklearn"
   ]
  },
  {
   "cell_type": "code",
   "execution_count": 114,
   "metadata": {},
   "outputs": [
    {
     "data": {
      "text/plain": [
       "1.0"
      ]
     },
     "execution_count": 114,
     "metadata": {},
     "output_type": "execute_result"
    }
   ],
   "source": [
    "from sklearn.neighbors import KNeighborsClassifier\n",
    "neighbors = KNeighborsClassifier(n_neighbors=5)\n",
    "neighbors.fit(x_train, y_train)\n",
    "neighbors.score(x_test, y_test)\n",
    "    "
   ]
  },
  {
   "cell_type": "code",
   "execution_count": null,
   "metadata": {},
   "outputs": [],
   "source": []
  }
 ],
 "metadata": {
  "kernelspec": {
   "display_name": "Python 3",
   "language": "python",
   "name": "python3"
  },
  "language_info": {
   "codemirror_mode": {
    "name": "ipython",
    "version": 3
   },
   "file_extension": ".py",
   "mimetype": "text/x-python",
   "name": "python",
   "nbconvert_exporter": "python",
   "pygments_lexer": "ipython3",
   "version": "3.7.3"
  }
 },
 "nbformat": 4,
 "nbformat_minor": 2
}
